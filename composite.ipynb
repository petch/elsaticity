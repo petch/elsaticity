{
 "cells": [
  {
   "cell_type": "code",
   "execution_count": 8,
   "metadata": {
    "scrolled": false
   },
   "outputs": [
    {
     "name": "stdout",
     "output_type": "stream",
     "text": [
      "Warning: 'conda-forge' already in 'channels' list, moving to the top\n",
      "Fetching package metadata .............\n",
      "Solving package specifications: .\n",
      "\n",
      "# All requested packages already installed.\n",
      "# packages in environment at /srv/conda:\n",
      "#\n",
      "fenics                    2018.1.0         py36hba71e3e_0    conda-forge\n",
      "matplotlib                2.2.2                    py36_1    conda-forge\n",
      "mshr                      2018.1.0         py36h49bd758_0    conda-forge\n"
     ]
    }
   ],
   "source": [
    "!conda config --add channels conda-forge\n",
    "!conda install -y --update-dependencies fenics mshr matplotlib"
   ]
  },
  {
   "cell_type": "code",
   "execution_count": 9,
   "metadata": {},
   "outputs": [
    {
     "ename": "ImportError",
     "evalue": "generic_type: type \"CSGGeometry\" referenced unknown base type \"dolfin::Variable\"",
     "output_type": "error",
     "traceback": [
      "\u001b[0;31m---------------------------------------------------------------------------\u001b[0m",
      "\u001b[0;31mImportError\u001b[0m                               Traceback (most recent call last)",
      "\u001b[0;32m<ipython-input-9-69fe1bd79f45>\u001b[0m in \u001b[0;36m<module>\u001b[0;34m()\u001b[0m\n\u001b[1;32m      1\u001b[0m \u001b[0;32mfrom\u001b[0m \u001b[0mdolfin\u001b[0m \u001b[0;32mimport\u001b[0m \u001b[0;34m*\u001b[0m\u001b[0;34m\u001b[0m\u001b[0m\n\u001b[0;32m----> 2\u001b[0;31m \u001b[0;32mfrom\u001b[0m \u001b[0mmshr\u001b[0m \u001b[0;32mimport\u001b[0m \u001b[0;34m*\u001b[0m\u001b[0;34m\u001b[0m\u001b[0m\n\u001b[0m\u001b[1;32m      3\u001b[0m \u001b[0;32mimport\u001b[0m \u001b[0mmatplotlib\u001b[0m\u001b[0;34m.\u001b[0m\u001b[0mpyplot\u001b[0m \u001b[0;32mas\u001b[0m \u001b[0mplt\u001b[0m\u001b[0;34m\u001b[0m\u001b[0m\n\u001b[1;32m      4\u001b[0m \u001b[0;34m\u001b[0m\u001b[0m\n\u001b[1;32m      5\u001b[0m \u001b[0;32mdef\u001b[0m \u001b[0mFiber\u001b[0m\u001b[0;34m(\u001b[0m\u001b[0mw\u001b[0m\u001b[0;34m,\u001b[0m \u001b[0mh\u001b[0m\u001b[0;34m,\u001b[0m \u001b[0mx\u001b[0m\u001b[0;34m,\u001b[0m \u001b[0my\u001b[0m\u001b[0;34m)\u001b[0m\u001b[0;34m:\u001b[0m\u001b[0;34m\u001b[0m\u001b[0m\n",
      "\u001b[0;32m/srv/conda/lib/python3.6/site-packages/mshr/__init__.py\u001b[0m in \u001b[0;36m<module>\u001b[0;34m()\u001b[0m\n\u001b[1;32m     22\u001b[0m \u001b[0;32mimport\u001b[0m \u001b[0mdolfin\u001b[0m\u001b[0;34m\u001b[0m\u001b[0m\n\u001b[1;32m     23\u001b[0m \u001b[0;34m\u001b[0m\u001b[0m\n\u001b[0;32m---> 24\u001b[0;31m \u001b[0;32mfrom\u001b[0m \u001b[0;34m.\u001b[0m\u001b[0mcpp\u001b[0m \u001b[0;32mimport\u001b[0m \u001b[0mCircle\u001b[0m\u001b[0;34m\u001b[0m\u001b[0m\n\u001b[0m\u001b[1;32m     25\u001b[0m \u001b[0;32mfrom\u001b[0m \u001b[0;34m.\u001b[0m\u001b[0mcpp\u001b[0m \u001b[0;32mimport\u001b[0m \u001b[0mEllipse\u001b[0m\u001b[0;34m\u001b[0m\u001b[0m\n\u001b[1;32m     26\u001b[0m \u001b[0;32mfrom\u001b[0m \u001b[0;34m.\u001b[0m\u001b[0mcpp\u001b[0m \u001b[0;32mimport\u001b[0m \u001b[0mRectangle\u001b[0m\u001b[0;34m\u001b[0m\u001b[0m\n",
      "\u001b[0;31mImportError\u001b[0m: generic_type: type \"CSGGeometry\" referenced unknown base type \"dolfin::Variable\""
     ]
    }
   ],
   "source": [
    "from dolfin import *\n",
    "from mshr import *\n",
    "import matplotlib.pyplot as plt\n",
    "\n",
    "def Fiber(w, h, x, y):\n",
    "    fiber = Rectangle(Point(x - w/2, y - h/2), Point(x + w/2, y + h/2))\n",
    "    return fiber\n",
    "\n",
    "def Composite(w, h, fw, fh, dx, dy, add=None):\n",
    "    domain = Rectangle(Point(0, 0), Point(w, h))\n",
    "    if not add is None:\n",
    "        domain += add\n",
    "    nx = int(w / dx)\n",
    "    ny = int(h / dy)\n",
    "    for i in range(nx):\n",
    "        x = w * (i + 0.5) / nx \n",
    "        for j in range(ny):\n",
    "            y = h * (j + 0.5) / ny\n",
    "            domain.set_subdomain(i * ny + j + 1, Fiber(fw, fh, x, y))\n",
    "    return domain\n",
    "\n",
    "def Press(w, h, rx, ry):\n",
    "    press = Rectangle(Point(-w/2, -h), Point(w/2, 0)) \\\n",
    "          - Ellipse(Point(-w/2, -ry), rx, ry) \\\n",
    "          - Ellipse(Point(w/2, -ry), rx, ry) \\\n",
    "          - Rectangle(Point(-w/2, -h), Point(-w/2 + rx, -ry)) \\\n",
    "          - Rectangle(Point(w/2 - rx, -h), Point(w/2, -ry))\n",
    "    return press\n",
    "    \n",
    "def Block(w, h, fw, fh, dx, dy, pw, ph, rx, ry):\n",
    "    press = Press(pw, ph, rx, ry)\n",
    "    presses = CSGTranslation(press, Point(pw/2, 0)) \\\n",
    "            + CSGTranslation(press, Point(w-pw/2, 0)) \\\n",
    "            + CSGTranslation(CSGRotation(press, DOLFIN_PI), Point(w/2, h))\n",
    "    block = Composite(w, h, fw, fh, dx, dy, presses)\n",
    "    return block\n",
    "\n",
    "def SparseBlock(w, h, fw, fh, dx, dy, pw, ph, rx, ry, rvew, rveh):\n",
    "    press = Press(pw, ph, rx, ry)\n",
    "    presses = CSGTranslation(press, Point(pw/2, 0)) \\\n",
    "            + CSGTranslation(press, Point(w-pw/2, 0)) \\\n",
    "            + CSGTranslation(CSGRotation(press, DOLFIN_PI), Point(w/2, h))\n",
    "    domain = Rectangle(Point(0, 0), Point(w, h)) + presses\n",
    "    nx = int(w / dx)\n",
    "    ny = int(h / dy)\n",
    "    for i in range(nx):\n",
    "        x = w * (i + 0.5) / nx \n",
    "        for j in range(ny):\n",
    "            y = h * (j + 0.5) / ny\n",
    "            if (near(x, rvew/2, rvew/2) and near(y, rveh/2, rveh/2)) \\\n",
    "            or (near(x, w-rvew/2, rvew/2) and near(y, rveh/2, rveh/2)) \\\n",
    "            or (near(x, w/2, rvew/2) and near(y, h - rveh/2, rveh/2)):\n",
    "                domain.set_subdomain(i * ny + j + 1, Fiber(fw, fh, x, y))\n",
    "    return block    \n",
    "\n",
    "def save(geo, name, resolution, do_plot=False):\n",
    "    mesh = generate_mesh(geo, resolution)\n",
    "    domains = MeshFunction(\"size_t\", mesh, 2, mesh.domains())\n",
    "    File(name + \".xml\") << mesh\n",
    "    File(name + \"_domains.xml\") << domains\n",
    "    File(name + \"_domains.pvd\") << domains\n",
    "    if do_plot:\n",
    "        plt.figure(figsize=(16, 12))\n",
    "        plot(mesh)\n",
    "        plot(domains)\n",
    "    \n",
    "\n",
    "fiberWidth  = 0.05\n",
    "fiberHeight = 0.0125\n",
    "densityX    = 0.1\n",
    "densityY    = 0.1\n",
    "rveWidth    = 0.1\n",
    "rveHeight   = 0.1\n",
    "blockWidth  = 2.0\n",
    "blockHeight = 1.0\n",
    "pressWidth  = 0.4\n",
    "pressHeight = 0.1\n",
    "roundX      = 0.05\n",
    "roundY      = 0.05\n",
    "resolution  = 50\n",
    "coarse      = 20\n",
    "\n",
    "rve = Composite(rveWidth, rveHeight, fiberWidth, fiberHeight, densityX, densityY)\n",
    "save(rve, \"rve\", sqrt(rveWidth*rveHeight)*resolution, True)\n",
    "\n",
    "block = Block(blockWidth, blockHeight, fiberWidth, fiberHeight, densityX, densityX, pressWidth, pressHeight, roundX, roundY)\n",
    "save(block, \"block\", sqrt(blockWidth*blockHeight)*resolution, True)\n",
    "\n",
    "sparse = SparseBlock(blockWidth, blockHeight, fiberWidth, fiberHeight, densityX, densityX, pressWidth, pressHeight, roundX, roundY, rveWidth, rveHeight)\n",
    "save(sparse, \"sparse\", sqrt(blockWidth*blockHeight)*coarse, True)\n",
    "\n"
   ]
  }
 ],
 "metadata": {
  "kernelspec": {
   "display_name": "Python 3",
   "language": "python",
   "name": "python3"
  },
  "language_info": {
   "codemirror_mode": {
    "name": "ipython",
    "version": 3
   },
   "file_extension": ".py",
   "mimetype": "text/x-python",
   "name": "python",
   "nbconvert_exporter": "python",
   "pygments_lexer": "ipython3",
   "version": "3.6.5"
  }
 },
 "nbformat": 4,
 "nbformat_minor": 2
}
